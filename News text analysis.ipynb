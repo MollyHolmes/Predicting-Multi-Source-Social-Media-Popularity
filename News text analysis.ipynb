{
 "cells": [
  {
   "cell_type": "code",
   "execution_count": 1,
   "metadata": {
    "collapsed": true
   },
   "outputs": [],
   "source": [
    "import pandas as pd\n",
    "import matplotlib.pyplot as plt\n",
    "import numpy as np\n",
    "import math\n",
    "import seaborn as sns\n",
    "from sklearn.preprocessing import MinMaxScaler\n",
    "from sklearn.preprocessing import StandardScaler\n",
    "import scipy.stats as stats\n",
    "import datetime\n",
    "import gensim\n",
    "import random\n",
    "import re\n",
    "from nltk import word_tokenize\n",
    "from nltk.tokenize import RegexpTokenizer\n",
    "from nltk.corpus import stopwords\n",
    "from sklearn.feature_extraction.text import CountVectorizer\n",
    "from sklearn.feature_extraction.text import TfidfVectorizer\n",
    "from sklearn.decomposition import PCA\n",
    "from sklearn.svm import SVC\n",
    "from sklearn.neural_network import MLPClassifier\n",
    "from sklearn.ensemble import AdaBoostClassifier\n",
    "from sklearn.ensemble import RandomForestClassifier\n",
    "from sklearn.linear_model import LogisticRegression\n",
    "from sklearn.model_selection import train_test_split\n",
    "from sklearn.model_selection import cross_val_score\n",
    "from sklearn.metrics import accuracy_score\n",
    "from sklearn.metrics import recall_score\n",
    "from sklearn.metrics import f1_score\n",
    "from sklearn.metrics import precision_score\n",
    "from sklearn.metrics import precision_recall_fscore_support\n",
    "from sklearn.metrics import precision_recall_curve\n",
    "#import statsmodels.api as sm\n",
    "sns.set()\n",
    "%matplotlib inline\n",
    "sns.set_style('white')\n",
    "import warnings\n",
    "warnings.filterwarnings('ignore')"
   ]
  },
  {
   "cell_type": "markdown",
   "metadata": {},
   "source": [
    "### Preprocess"
   ]
  },
  {
   "cell_type": "code",
   "execution_count": 2,
   "metadata": {
    "collapsed": true
   },
   "outputs": [],
   "source": [
    "news = pd.read_csv('./Dataset/News_Final.csv',parse_dates=['PublishDate'])\n",
    "# fe = pd.read_csv('./Dataset/Facebook_Economy.csv')\n",
    "\n",
    "#keep the news that is on all three platforms\n",
    "F = news[news['Facebook']>0].Facebook\n",
    "L = news[news['LinkedIn']>0].LinkedIn\n",
    "G = news[news['GooglePlus']>0].GooglePlus\n",
    "news['num_platform'] = news[\"Facebook\"].map(str) + ',' + news[\"GooglePlus\"].map(str)+  ',' + news['LinkedIn'].map(str)\n",
    "news['num_platform'] = news['num_platform'].apply(lambda x: [int(num) for num in x.split(',')])\n",
    "news['num_platforms'] = news['num_platform'].apply(lambda x: 3 - x.count(-1)-x.count(0))\n",
    "news_df = news[news['num_platforms']==3]\n",
    "\n",
    "#Create Source Rank categorical labels\n",
    "source_df = pd.DataFrame(news_df.Source.value_counts())\n",
    "thrsd_1 = int(len(source_df)*0.01) #17\n",
    "thrsd_5 = int(len(source_df)*0.05) #69\n",
    "thrsd_20 = int(len(source_df)*0.2) #260 #the rest: 1386 \n",
    "#Justify: I chose 20% as threshold because after 20%, \n",
    "#post per souces is lower than 10, which can be considered as a low-frequency-post number.  \n",
    "source_df['source_rank'] = source_df['Source'].apply(lambda x: np.nan)\n",
    "source_df['source_rank'][:thrsd_1]= 'Top_1%'\n",
    "source_df['source_rank'][thrsd_1:thrsd_5]= 'Top_5%'\n",
    "source_df['source_rank'][thrsd_5:thrsd_20]= 'Top_20%'\n",
    "source_df['source_rank'][thrsd_20:] = 'Others'\n",
    "\n",
    "source_df = source_df.reset_index()\n",
    "source_df.columns = ['Source', 'num_post','source_rank']\n",
    "news_df = news_df.merge(source_df, on = 'Source')\n",
    "\n",
    "# Create news popularity rank categorical labels\n",
    "thrsd_1 = int(len(news_df)*0.01) #17\n",
    "thrsd_5 = int(len(news_df)*0.05) #69\n",
    "thrsd_25 = int(len(news_df)*0.25)\n",
    "\n",
    "def cal_thrsd(column):\n",
    "    column = column.sort_values(ascending = False)\n",
    "    return column.iloc[thrsd_1], column.iloc[thrsd_5], column.iloc[thrsd_25] \n",
    "\n",
    "facebook_thrsd = cal_thrsd(news_df.Facebook)\n",
    "google_thrsd = cal_thrsd(news_df.GooglePlus)\n",
    "link_thrsd = cal_thrsd(news_df.LinkedIn)\n",
    "\n",
    "def create_rank(x, thrsd):\n",
    "    if x>=thrsd[0]:\n",
    "        return 'Top_1%'\n",
    "    elif x>= thrsd[1]:\n",
    "        return 'Top_5%'\n",
    "    elif x>= thrsd[2]:\n",
    "        return 'Top_25%'\n",
    "    else:\n",
    "        return 'Others'\n",
    "    \n",
    "news_df['Face_pop_rank'] = news_df['Facebook'].apply(lambda x: create_rank(x, facebook_thrsd))\n",
    "news_df['Google_pop_rank'] = news_df['GooglePlus'].apply(lambda x: create_rank(x, google_thrsd))\n",
    "news_df['LinkedIn_pop_rank'] = news_df['LinkedIn'].apply(lambda x: create_rank(x, link_thrsd))"
   ]
  },
  {
   "cell_type": "markdown",
   "metadata": {},
   "source": [
    "### Explore lexical features"
   ]
  },
  {
   "cell_type": "markdown",
   "metadata": {},
   "source": [
    "#### Title Length / Headline Length"
   ]
  },
  {
   "cell_type": "code",
   "execution_count": 3,
   "metadata": {},
   "outputs": [
    {
     "data": {
      "text/plain": [
       "Index(['IDLink', 'Title', 'Headline', 'Source', 'Topic', 'PublishDate',\n",
       "       'SentimentTitle', 'SentimentHeadline', 'Facebook', 'GooglePlus',\n",
       "       'LinkedIn', 'num_platform', 'num_platforms', 'num_post', 'source_rank',\n",
       "       'Face_pop_rank', 'Google_pop_rank', 'LinkedIn_pop_rank'],\n",
       "      dtype='object')"
      ]
     },
     "execution_count": 3,
     "metadata": {},
     "output_type": "execute_result"
    }
   ],
   "source": [
    "news_df.columns"
   ]
  },
  {
   "cell_type": "code",
   "execution_count": 4,
   "metadata": {
    "collapsed": true
   },
   "outputs": [],
   "source": [
    "news_df['title_length'] = news_df.Title.apply(lambda x : len(x.split()))\n",
    "news_df['Headline_length'] = news_df.Headline.apply(lambda x : len(x.split()))"
   ]
  },
  {
   "cell_type": "code",
   "execution_count": 5,
   "metadata": {},
   "outputs": [
    {
     "data": {
      "text/plain": [
       "<matplotlib.axes._subplots.AxesSubplot at 0x10ed25c50>"
      ]
     },
     "execution_count": 5,
     "metadata": {},
     "output_type": "execute_result"
    },
    {
     "data": {
      "image/png": "[encoded data removed]",
      "text/plain": [
       "<Figure size 432x288 with 1 Axes>"
      ]
     },
     "metadata": {},
     "output_type": "display_data"
    }
   ],
   "source": [
    "news_df.title_length.hist(bins=20)"
   ]
  },
  {
   "cell_type": "code",
   "execution_count": 6,
   "metadata": {},
   "outputs": [
    {
     "data": {
      "text/plain": [
       "<matplotlib.axes._subplots.AxesSubplot at 0x12d089400>"
      ]
     },
     "execution_count": 6,
     "metadata": {},
     "output_type": "execute_result"
    },
    {
     "data": {
      "image/png": "[encoded data removed]",
      "text/plain": [
       "<Figure size 432x288 with 1 Axes>"
      ]
     },
     "metadata": {},
     "output_type": "display_data"
    }
   ],
   "source": [
    "news_df.Headline_length.hist(bins=30)"
   ]
  },
  {
   "cell_type": "code",
   "execution_count": 7,
   "metadata": {},
   "outputs": [
    {
     "data": {
      "text/plain": [
       "Face_pop_rank\n",
       "Others     24.107182\n",
       "Top_1%     22.243590\n",
       "Top_25%    23.351547\n",
       "Top_5%     22.867095\n",
       "Name: Headline_length, dtype: float64"
      ]
     },
     "execution_count": 7,
     "metadata": {},
     "output_type": "execute_result"
    }
   ],
   "source": [
    "news_df.groupby('Face_pop_rank').Headline_length.mean()"
   ]
  },
  {
   "cell_type": "code",
   "execution_count": 8,
   "metadata": {},
   "outputs": [
    {
     "data": {
      "text/plain": [
       "Text(0, 0.5, 'Title length')"
      ]
     },
     "execution_count": 8,
     "metadata": {},
     "output_type": "execute_result"
    },
    {
     "data": {
      "image/png": "[encoded data removed]",
      "text/plain": [
       "<Figure size 432x288 with 1 Axes>"
      ]
     },
     "metadata": {},
     "output_type": "display_data"
    }
   ],
   "source": [
    "top_1_f = news_df[news_df['Face_pop_rank']=='Top_1%'].title_length\n",
    "top_5_f = news_df[news_df['Face_pop_rank']=='Top_5%'].title_length\n",
    "top_20_f = news_df[news_df['Face_pop_rank']=='Top_25%'].title_length\n",
    "top_other_f = news_df[news_df['Face_pop_rank']=='Others'].title_length\n",
    "\n",
    "plt.boxplot([top_1_f, top_5_f, top_20_f, top_other_f]);\n",
    "plt.xticks([1,2,3,4],['Top_1%', 'Top_5%', 'Top_25%','Others'], fontsize = 14);\n",
    "plt.xlabel('Facebook popularity ranking',fontsize = 14)\n",
    "plt.ylabel('Title length',fontsize = 14)\n",
    "#plt.title('', fontsize = 15)"
   ]
  },
  {
   "cell_type": "code",
   "execution_count": 10,
   "metadata": {},
   "outputs": [
    {
     "data": {
      "text/plain": [
       "Text(0, 0.5, 'Headline length')"
      ]
     },
     "execution_count": 10,
     "metadata": {},
     "output_type": "execute_result"
    },
    {
     "data": {
      "image/png": "[encoded data removed]",
      "text/plain": [
       "<Figure size 432x288 with 1 Axes>"
      ]
     },
     "metadata": {},
     "output_type": "display_data"
    }
   ],
   "source": [
    "top_1_f = news_df[news_df['Face_pop_rank']=='Top_1%'].Headline_length\n",
    "top_5_f = news_df[news_df['Face_pop_rank']=='Top_5%'].Headline_length\n",
    "top_20_f = news_df[news_df['Face_pop_rank']=='Top_25%'].Headline_length\n",
    "top_other_f = news_df[news_df['Face_pop_rank']=='Others'].Headline_length\n",
    "\n",
    "plt.boxplot([top_1_f, top_5_f, top_20_f, top_other_f]);\n",
    "plt.xticks([1,2,3,4],['Top_1%', 'Top_5%', 'Top_25%','Others'], fontsize = 14);\n",
    "plt.xlabel('Facebook popularity ranking',fontsize = 14)\n",
    "plt.ylabel('Headline length',fontsize = 14)\n",
    "#plt.title('', fontsize = 15)"
   ]
  },
  {
   "cell_type": "markdown",
   "metadata": {},
   "source": [
    "There is no clear connection between the popularity and the text length. "
   ]
  },
  {
   "cell_type": "code",
   "execution_count": 11,
   "metadata": {
    "collapsed": true
   },
   "outputs": [],
   "source": [
    "# preprocess text\n",
    "# generate bow features\n",
    "# PCA -- not work\n",
    "# train_test_split\n",
    "# fit and cross validation\n",
    "# evaluate and print result \n",
    "# solve the problem of unbalanced data --- Key problem!!!"
   ]
  },
  {
   "cell_type": "markdown",
   "metadata": {
    "collapsed": true
   },
   "source": [
    "### Preprocess both titles and headings"
   ]
  },
  {
   "cell_type": "code",
   "execution_count": 11,
   "metadata": {
    "collapsed": true
   },
   "outputs": [],
   "source": [
    "def preprocess(title, only_char=False, lower=True, stop_remove=True, stemming=True):\n",
    "    title = re.sub(r'[^\\x00-\\x7F]+',' ', title)\n",
    "    if lower: \n",
    "        title = title.lower()\n",
    "    if only_char:\n",
    "        tokenizer = RegexpTokenizer(r'\\w+')\n",
    "        tokens = tokenizer.tokenize(title)\n",
    "        title = ' '.join(tokens)\n",
    "    tokens = word_tokenize(title)\n",
    "    if stop_remove:\n",
    "        tokens = [w for w in tokens if not w in stopwords.words('english')]\n",
    "  # also remove one-length word\n",
    "    tokens = [w for w in tokens if len(w) > 1]\n",
    "    return \" \".join(tokens)"
   ]
  },
  {
   "cell_type": "code",
   "execution_count": 14,
   "metadata": {},
   "outputs": [],
   "source": [
    "news_df['title_prep'] = news_df.Title.apply(lambda x: preprocess(x))"
   ]
  },
  {
   "cell_type": "code",
   "execution_count": 15,
   "metadata": {
    "collapsed": true
   },
   "outputs": [],
   "source": [
    "news_df['headline_prep'] = news_df.Headline.apply(lambda x: preprocess(x))"
   ]
  },
  {
   "cell_type": "code",
   "execution_count": 16,
   "metadata": {
    "collapsed": true
   },
   "outputs": [],
   "source": [
    "news_df.to_csv('preprocessed_text_news_df.csv')"
   ]
  },
  {
   "cell_type": "code",
   "execution_count": null,
   "metadata": {
    "collapsed": true
   },
   "outputs": [],
   "source": []
  }
 ],
 "metadata": {
  "kernelspec": {
   "display_name": "Python 3",
   "language": "python",
   "name": "python3"
  },
  "language_info": {
   "codemirror_mode": {
    "name": "ipython",
    "version": 3
   },
   "file_extension": ".py",
   "mimetype": "text/x-python",
   "name": "python",
   "nbconvert_exporter": "python",
   "pygments_lexer": "ipython3",
   "version": "3.6.8"
  }
 },
 "nbformat": 4,
 "nbformat_minor": 2
}
